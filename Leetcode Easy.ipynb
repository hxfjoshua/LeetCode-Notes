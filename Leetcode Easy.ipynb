{
 "cells": [
  {
   "cell_type": "markdown",
   "id": "05b187a9",
   "metadata": {},
   "source": [
    "# 1. Two Sum"
   ]
  },
  {
   "cell_type": "markdown",
   "id": "1600686c",
   "metadata": {},
   "source": [
    "Given an array of integers nums and an integer target, return indices of the two numbers such that they add up to target.\n",
    "\n",
    "You may assume that each input would have exactly one solution, and you may not use the same element twice.\n",
    "\n",
    "You can return the answer in any order."
   ]
  },
  {
   "cell_type": "markdown",
   "id": "adfff36f",
   "metadata": {},
   "source": [
    "### Solution (1) Hash map/dictionary key:value pair"
   ]
  },
  {
   "cell_type": "code",
   "execution_count": 3,
   "id": "cc7ac616",
   "metadata": {},
   "outputs": [],
   "source": [
    "thisdict = {\n",
    "  \"brand\": \"Ford\",\n",
    "  \"model\": \"Mustang\",\n",
    "  \"year\": 1964\n",
    "}"
   ]
  },
  {
   "cell_type": "code",
   "execution_count": 10,
   "id": "e785b752",
   "metadata": {},
   "outputs": [
    {
     "data": {
      "text/plain": [
       "'Mustang'"
      ]
     },
     "execution_count": 10,
     "metadata": {},
     "output_type": "execute_result"
    }
   ],
   "source": [
    "thisdict[\"model\"]"
   ]
  },
  {
   "cell_type": "code",
   "execution_count": 9,
   "id": "15e30b3a",
   "metadata": {},
   "outputs": [
    {
     "data": {
      "text/plain": [
       "True"
      ]
     },
     "execution_count": 9,
     "metadata": {},
     "output_type": "execute_result"
    }
   ],
   "source": [
    "\"brand\" in thisdict"
   ]
  },
  {
   "cell_type": "code",
   "execution_count": 28,
   "id": "948f6643",
   "metadata": {},
   "outputs": [],
   "source": [
    "def twoSum(nums, target):\n",
    "    prevMap = {} # initialize a dictionary value:index pair\n",
    "\n",
    "    for i, x in enumerate(nums):\n",
    "        diff = target - x\n",
    "        if diff in prevMap:\n",
    "            return [prevMap[diff], i]\n",
    "        prevMap[x] = i\n",
    "    return\n",
    "# adventage is only iterate the list once, faster"
   ]
  },
  {
   "cell_type": "code",
   "execution_count": 29,
   "id": "69876f4c",
   "metadata": {},
   "outputs": [
    {
     "data": {
      "text/plain": [
       "[1, 2]"
      ]
     },
     "execution_count": 29,
     "metadata": {},
     "output_type": "execute_result"
    }
   ],
   "source": [
    "nums = [3,2,4]\n",
    "target = 6\n",
    "twoSum(nums, target)"
   ]
  },
  {
   "cell_type": "markdown",
   "id": "d926e3d6",
   "metadata": {},
   "source": [
    "### Solution (2) left and right pointer, only applicable when the nums list is in ascending order"
   ]
  },
  {
   "cell_type": "code",
   "execution_count": 30,
   "id": "4698df07",
   "metadata": {},
   "outputs": [],
   "source": [
    "def twoSum(nums, target):\n",
    "        l, r = 0, len(nums) - 1 # initialize left, right pointer\n",
    "        \n",
    "        while l < r:\n",
    "            cur_sum = nums[l] + nums[r]\n",
    "            \n",
    "            if cur_sum > target:\n",
    "                r -= 1\n",
    "            elif cur_sum < target:\n",
    "                l += 1\n",
    "            else:\n",
    "                return [l, r]\n",
    "        return []"
   ]
  },
  {
   "cell_type": "code",
   "execution_count": 31,
   "id": "a9bdae8b",
   "metadata": {},
   "outputs": [
    {
     "data": {
      "text/plain": [
       "[0, 1]"
      ]
     },
     "execution_count": 31,
     "metadata": {},
     "output_type": "execute_result"
    }
   ],
   "source": [
    "nums = [2,7,11,15]\n",
    "target = 9\n",
    "twoSum(nums, target)"
   ]
  },
  {
   "cell_type": "markdown",
   "id": "162904b9",
   "metadata": {},
   "source": [
    "# 2.  Palindrome Number"
   ]
  },
  {
   "cell_type": "markdown",
   "id": "765df2c8",
   "metadata": {},
   "source": [
    "Given an integer x, return true if x is palindrome integer.\n",
    "\n",
    "An integer is a palindrome when it reads the same backward as forward.\n",
    "\n",
    "For example, 121 is a palindrome while 123 is not.\n",
    "\n",
    "Example 1:\n",
    "\n",
    "Input: x = 121\n",
    "Output: true\n",
    "Explanation: 121 reads as 121 from left to right and from right to left.\n",
    "\n",
    "Example 2:\n",
    "\n",
    "Input: x = -121\n",
    "Output: false\n",
    "Explanation: From left to right, it reads -121. From right to left, it becomes 121-. Therefore it is not a palindrome.\n",
    "\n",
    "Example 3:\n",
    "\n",
    "Input: x = 10\n",
    "Output: false\n",
    "Explanation: Reads 01 from right to left. Therefore it is not a palindrome."
   ]
  },
  {
   "cell_type": "markdown",
   "id": "e41d098d",
   "metadata": {},
   "source": [
    "### My solution"
   ]
  },
  {
   "cell_type": "markdown",
   "id": "e9d98a69",
   "metadata": {},
   "source": [
    "Runtime: 115 ms, faster than 31.83% of Python3 online submissions for Palindrome Number.\n",
    "    \n",
    "Memory Usage: 14 MB, less than 16.23% of Python3 online submissions for Palindrome Number."
   ]
  },
  {
   "cell_type": "code",
   "execution_count": 46,
   "id": "061cbef6",
   "metadata": {},
   "outputs": [],
   "source": [
    "def isPalindrome(x):\n",
    "        x_chars = str(x)\n",
    "        l, r = 0, len(x_chars) - 1\n",
    "        outputs = [None] * (len(x_chars)//2)\n",
    "        for i in range(0,len(x_chars)//2):\n",
    "            if x_chars[l] == x_chars[r]:\n",
    "                outputs[i] = True\n",
    "            else:\n",
    "                outputs[i] = False\n",
    "            l += 1\n",
    "            r -= 1\n",
    "        return all(outputs)"
   ]
  },
  {
   "cell_type": "code",
   "execution_count": 47,
   "id": "94ee8ccd",
   "metadata": {},
   "outputs": [
    {
     "data": {
      "text/plain": [
       "False"
      ]
     },
     "execution_count": 47,
     "metadata": {},
     "output_type": "execute_result"
    }
   ],
   "source": [
    "x = 10022201\n",
    "isPalindrome(x)"
   ]
  },
  {
   "cell_type": "code",
   "execution_count": 49,
   "id": "eee9f132",
   "metadata": {},
   "outputs": [
    {
     "data": {
      "text/plain": [
       "True"
      ]
     },
     "execution_count": 49,
     "metadata": {},
     "output_type": "execute_result"
    }
   ],
   "source": [
    "x = 121\n",
    "isPalindrome(x)"
   ]
  },
  {
   "cell_type": "markdown",
   "id": "ff515524",
   "metadata": {},
   "source": [
    "### Follow up: Could you solve it without converting the integer to a string?"
   ]
  },
  {
   "cell_type": "code",
   "execution_count": 50,
   "id": "bc492a7c",
   "metadata": {},
   "outputs": [],
   "source": [
    "def isPalindrome(x):\n",
    "    if x < 0: return False # negative number is not palindrome\n",
    "        \n",
    "    div = 1 #initialize dividend\n",
    "    while x > div * 10:\n",
    "        div *= 10 # find the largest dividend that is not exceeding the target number\n",
    "\n",
    "    while x:\n",
    "        right = x % 10 #get the right end digit by using modulo operater to get remainder\n",
    "        left = x // div #get the left end digit by using floor division operator to round down\n",
    "\n",
    "        if right != left: return False\n",
    "\n",
    "        x = (x % div) // 10 #removing left and right ends digit\n",
    "        div = div / 100 #reset the dividend, because we removed 2 digits\n",
    "\n",
    "    return True"
   ]
  },
  {
   "cell_type": "code",
   "execution_count": 51,
   "id": "515b503f",
   "metadata": {},
   "outputs": [
    {
     "data": {
      "text/plain": [
       "False"
      ]
     },
     "execution_count": 51,
     "metadata": {},
     "output_type": "execute_result"
    }
   ],
   "source": [
    "x = 10022201\n",
    "isPalindrome(x)"
   ]
  },
  {
   "cell_type": "code",
   "execution_count": 52,
   "id": "b14f4e74",
   "metadata": {},
   "outputs": [
    {
     "data": {
      "text/plain": [
       "True"
      ]
     },
     "execution_count": 52,
     "metadata": {},
     "output_type": "execute_result"
    }
   ],
   "source": [
    "x = 121\n",
    "isPalindrome(x)"
   ]
  },
  {
   "cell_type": "markdown",
   "id": "8c8625be",
   "metadata": {},
   "source": [
    "# 3. Roman to Integer"
   ]
  },
  {
   "cell_type": "markdown",
   "id": "e94b23c6",
   "metadata": {},
   "source": [
    "Roman numerals are represented by seven different symbols: I, V, X, L, C, D and M.\n",
    "\n",
    "Symbol       Value\n",
    "I             1\n",
    "V             5\n",
    "X             10\n",
    "L             50\n",
    "C             100\n",
    "D             500\n",
    "M             1000\n",
    "\n",
    "For example, 2 is written as II in Roman numeral, just two ones added together. 12 is written as XII, which is simply X + II. The number 27 is written as XXVII, which is XX + V + II.\n",
    "\n",
    "Roman numerals are usually written largest to smallest from left to right. However, the numeral for four is not IIII. Instead, the number four is written as IV. Because the one is before the five we subtract it making four. The same principle applies to the number nine, which is written as IX. There are six instances where subtraction is used:\n",
    "\n",
    "I can be placed before V (5) and X (10) to make 4 and 9. \n",
    "X can be placed before L (50) and C (100) to make 40 and 90. \n",
    "C can be placed before D (500) and M (1000) to make 400 and 900.\n",
    "Given a roman numeral, convert it to an integer."
   ]
  },
  {
   "cell_type": "markdown",
   "id": "910c67d3",
   "metadata": {},
   "source": [
    "### My solution"
   ]
  },
  {
   "cell_type": "markdown",
   "id": "fb3133b6",
   "metadata": {},
   "source": [
    "Runtime: 87 ms, faster than 33.45% of Python3 online submissions for Roman to Integer.\n",
    "    \n",
    "Memory Usage: 13.9 MB, less than 76.66% of Python3 online submissions for Roman to Integer."
   ]
  },
  {
   "cell_type": "markdown",
   "id": "3924621e",
   "metadata": {},
   "source": [
    "My logic was to invert the string first, start adding numbers from smaller roman letters. If a roman letter is smaller than the one on its right (previous letter from iteration), then this one should be subtracted.\n",
    "\n",
    "It works similar without reverting the string."
   ]
  },
  {
   "cell_type": "code",
   "execution_count": 69,
   "id": "fed65e60",
   "metadata": {},
   "outputs": [],
   "source": [
    "def romanToInt(s):\n",
    "        \n",
    "    look_up = {\"I\" : 1,\n",
    "      \"V\" : 5,\n",
    "      \"X\" : 10,\n",
    "      \"L\" : 50,\n",
    "      \"C\" : 100,\n",
    "      \"D\" : 500,\n",
    "      \"M\" : 1000}\n",
    "\n",
    "    s_invert = s[::-1]\n",
    "    num = 0\n",
    "\n",
    "    for ind, roman in enumerate(s_invert):\n",
    "        if ind > 0 and look_up[roman] < look_up[s_invert[ind-1]]:\n",
    "            num -= look_up[roman]\n",
    "        else:\n",
    "            num += look_up[roman]\n",
    "    return num\n"
   ]
  },
  {
   "cell_type": "code",
   "execution_count": 70,
   "id": "31340a88",
   "metadata": {},
   "outputs": [
    {
     "data": {
      "text/plain": [
       "1994"
      ]
     },
     "execution_count": 70,
     "metadata": {},
     "output_type": "execute_result"
    }
   ],
   "source": [
    "s = \"MCMXCIV\"\n",
    "romanToInt(s)"
   ]
  },
  {
   "cell_type": "markdown",
   "id": "2bb73713",
   "metadata": {},
   "source": [
    "# 4.  Longest Common Prefix"
   ]
  },
  {
   "cell_type": "markdown",
   "id": "83d5bc80",
   "metadata": {},
   "source": [
    "Write a function to find the longest common prefix string amongst an array of strings.\n",
    "\n",
    "If there is no common prefix, return an empty string \"\".\n",
    "\n",
    "example: Input: strs = [\"flower\",\"flow\",\"flight\"]\n",
    "Output: \"fl\""
   ]
  },
  {
   "cell_type": "markdown",
   "id": "3d69fb1f",
   "metadata": {},
   "source": [
    "### My solution"
   ]
  },
  {
   "cell_type": "markdown",
   "id": "2316e0e0",
   "metadata": {},
   "source": [
    "Runtime: 56 ms, faster than 47.97% of Python3 online submissions for Longest Common Prefix.\n",
    "\n",
    "Memory Usage: 13.8 MB, less than 99.38% of Python3 online submissions for Longest Common Prefix."
   ]
  },
  {
   "cell_type": "code",
   "execution_count": 123,
   "id": "49b3387a",
   "metadata": {},
   "outputs": [],
   "source": [
    "def longestCommonPrefix(strs):\n",
    "        \n",
    "    # find the shortest string in the list\n",
    "    short_str = min(strs, key = len)\n",
    "    # get the length of shortest string\n",
    "    short_len = len(short_str)\n",
    "\n",
    "    i = 0\n",
    "    result = \"\"\n",
    "    # in the while condition, (1) we don't want to iterate more than the shortest string\n",
    "    # (2) compare the letters on the same location across all strings, continue iteration if they all equal\n",
    "    # So the while loop only iterate based on the letter index\n",
    "    # [x[i] for x in strs] gives the letter on ith index of all strings\n",
    "    while i < short_len and all(val == strs[0][i] for val in [x[i] for x in strs]):\n",
    "        result += strs[0][i] # append the common letter \n",
    "        i += 1\n",
    "\n",
    "    return result"
   ]
  },
  {
   "cell_type": "code",
   "execution_count": 124,
   "id": "9f7a8b15",
   "metadata": {},
   "outputs": [
    {
     "data": {
      "text/plain": [
       "''"
      ]
     },
     "execution_count": 124,
     "metadata": {},
     "output_type": "execute_result"
    }
   ],
   "source": [
    "strs = [\"Today\", \"is\", \"Tuesday\"]\n",
    "longestCommonPrefix(strs)"
   ]
  },
  {
   "cell_type": "code",
   "execution_count": 125,
   "id": "a5e002c8",
   "metadata": {},
   "outputs": [
    {
     "data": {
      "text/plain": [
       "'Ti'"
      ]
     },
     "execution_count": 125,
     "metadata": {},
     "output_type": "execute_result"
    }
   ],
   "source": [
    "strs = [\"Tiger\", \"Tiktok\", \"Tickets\"]\n",
    "longestCommonPrefix(strs)"
   ]
  },
  {
   "cell_type": "markdown",
   "id": "f49da3a1",
   "metadata": {},
   "source": [
    "# 5. Valid Parentheses"
   ]
  },
  {
   "cell_type": "markdown",
   "id": "e7ca72e3",
   "metadata": {},
   "source": [
    "Given a string s containing just the characters '(', ')', '{', '}', '[' and ']', determine if the input string is valid.\n",
    "\n",
    "An input string is valid if:\n",
    "\n",
    "1.Open brackets must be closed by the same type of brackets.\n",
    "\n",
    "2.Open brackets must be closed in the correct order.\n",
    "\n",
    "Example: \"()[]{}\" is valid; \"([)]\" in not valid; \"(){}[[[]]]\" is valid"
   ]
  },
  {
   "cell_type": "markdown",
   "id": "b0097a84",
   "metadata": {},
   "source": [
    "### Solution 1"
   ]
  },
  {
   "cell_type": "markdown",
   "id": "a922fc42",
   "metadata": {},
   "source": [
    "Since `()`, `[]`, and `{}` should be present in pairs, then we can search for those substrings and replaced by empty strings. If in the end we get an empty string, which means the string is a valid praentheses. "
   ]
  },
  {
   "cell_type": "code",
   "execution_count": 20,
   "id": "94a1c29b",
   "metadata": {},
   "outputs": [],
   "source": [
    "def isValid(s):\n",
    "    for i in range(len(s)):\n",
    "        if \"()\" in s:\n",
    "            s=s.replace(\"()\",\"\")\n",
    "        if \"[]\" in s:\n",
    "            s=s.replace(\"[]\",\"\")\n",
    "        if \"{}\" in s:\n",
    "            s=s.replace(\"{}\",\"\")\n",
    "    return True if len(s) == 0 else False"
   ]
  },
  {
   "cell_type": "code",
   "execution_count": 21,
   "id": "043869ef",
   "metadata": {},
   "outputs": [
    {
     "data": {
      "text/plain": [
       "True"
      ]
     },
     "execution_count": 21,
     "metadata": {},
     "output_type": "execute_result"
    }
   ],
   "source": [
    "s = \"({})\"\n",
    "isValid(s)"
   ]
  },
  {
   "cell_type": "code",
   "execution_count": 22,
   "id": "a736b40b",
   "metadata": {},
   "outputs": [
    {
     "data": {
      "text/plain": [
       "False"
      ]
     },
     "execution_count": 22,
     "metadata": {},
     "output_type": "execute_result"
    }
   ],
   "source": [
    "s=\"[(])\"\n",
    "isValid(s)"
   ]
  },
  {
   "cell_type": "markdown",
   "id": "7964be40",
   "metadata": {},
   "source": [
    "### Solution 2:"
   ]
  },
  {
   "cell_type": "markdown",
   "id": "d55b4220",
   "metadata": {},
   "source": [
    "Use stack data structure, *.append() to add character, *.pop() to remove a character, default is to remove the last one."
   ]
  },
  {
   "cell_type": "code",
   "execution_count": 38,
   "id": "b9c7fbb9",
   "metadata": {},
   "outputs": [],
   "source": [
    "def isValid(s):\n",
    "    stack = []\n",
    "    p_dict = {\")\":\"(\",\n",
    "             \"]\":\"[\",\n",
    "             \"}\":\"{\"}\n",
    "\n",
    "    for c in s:\n",
    "        # test if current parenthese is a closing one, if not, append it to the list\n",
    "        if c in p_dict:\n",
    "            # if stack is empty list, no need to do anything; \n",
    "            # test if current closing parentheses matches with previous opening parentheses.\n",
    "            if stack and stack[-1] == p_dict[c]: \n",
    "                stack.pop() # if matches, then remove the existing opening parenthese\n",
    "            else: \n",
    "                return False\n",
    "        else: stack.append(c)\n",
    "    # empty list is considered as False boolean value\n",
    "    return True if not stack else False"
   ]
  },
  {
   "cell_type": "code",
   "execution_count": 39,
   "id": "dfee01ae",
   "metadata": {},
   "outputs": [
    {
     "data": {
      "text/plain": [
       "True"
      ]
     },
     "execution_count": 39,
     "metadata": {},
     "output_type": "execute_result"
    }
   ],
   "source": [
    "s = \"({})\"\n",
    "isValid(s)"
   ]
  },
  {
   "cell_type": "code",
   "execution_count": 40,
   "id": "2e3a3930",
   "metadata": {},
   "outputs": [
    {
     "data": {
      "text/plain": [
       "False"
      ]
     },
     "execution_count": 40,
     "metadata": {},
     "output_type": "execute_result"
    }
   ],
   "source": [
    "s=\"[(])\"\n",
    "isValid(s)"
   ]
  },
  {
   "cell_type": "markdown",
   "id": "e549be67",
   "metadata": {},
   "source": [
    "# 6. Merge Two Sorted Lists"
   ]
  },
  {
   "cell_type": "markdown",
   "id": "225615fa",
   "metadata": {},
   "source": [
    "You are given the heads of two sorted linked lists list1 and list2.\n",
    "\n",
    "Merge the two lists in a one sorted list. The list should be made by splicing together the nodes of the first two lists.\n",
    "\n",
    "Return the head of the merged linked list.\n",
    "\n",
    "Input: list1 = [1,2,4], list2 = [1,3,4]\n",
    "Output: [1,1,2,3,4,4]\n",
    "\n",
    "Input: list1 = [], list2 = []\n",
    "Output: []\n",
    "\n",
    "Input: list1 = [], list2 = [0]\n",
    "Output: [0]\n",
    "\n",
    "Good fundamental explaination of solving the problem. https://www.youtube.com/watch?v=GfRQvf7MB3k"
   ]
  },
  {
   "cell_type": "code",
   "execution_count": 1,
   "id": "b7483b97",
   "metadata": {},
   "outputs": [],
   "source": [
    "# Definition for singly-linked list.\n",
    "class ListNode:\n",
    "    def __init__(self, val=0, next=None):\n",
    "        self.val = val\n",
    "        self.next = next\n",
    "        \n",
    "    def printList(self):\n",
    "        temp = self\n",
    "        while (temp):\n",
    "            print (temp.val)\n",
    "            temp = temp.next\n",
    "        \n",
    "class Solution:\n",
    "#     def mergeTwoLists(self, list1: Optional[ListNode], list2: Optional[ListNode]) -> Optional[ListNode]:\n",
    "    def mergeTwoLists(self, list1, list2): \n",
    "        dummy = ListNode() #Creating dummy head to avoid writing additional code for edge cases.\n",
    "        output = dummy\n",
    "\n",
    "        while list1 and list2: # when both list1 and list2 nodes are none NULL, comparison is meaningful.\n",
    "            if list1.val < list2.val:\n",
    "                output.next = list1 #if list1 value is smaller, add current list1 node to output list\n",
    "                list1 = list1.next #move list1 pointer to the next list1 node\n",
    "            else:\n",
    "                output.next = list2\n",
    "                list2 = list2.next\n",
    "            output = output.next\n",
    "        #When at least one of the list has used all the nodes,\n",
    "        #the rest of the nodes in the other list can be all added to output\n",
    "        if list1:\n",
    "            output.next = list1\n",
    "        elif list2:\n",
    "            output.next = list2\n",
    "\n",
    "        return dummy #In LeetCode submission, it is dummy.next\n"
   ]
  },
  {
   "cell_type": "code",
   "execution_count": 2,
   "id": "4fd0e5b4",
   "metadata": {},
   "outputs": [],
   "source": [
    "#list1 = [1,2,4]; list2 = [1,3,4]\n",
    "list1 = ListNode(1)\n",
    "e2 = ListNode(2)\n",
    "e3 = ListNode(4)\n",
    "list1.next = e2\n",
    "e2.next = e3\n",
    "\n",
    "list2 = ListNode(1)\n",
    "f2 = ListNode(3)\n",
    "f3 = ListNode(4)\n",
    "list2.next = f2\n",
    "f2.next = f3"
   ]
  },
  {
   "cell_type": "code",
   "execution_count": 3,
   "id": "31178163",
   "metadata": {},
   "outputs": [],
   "source": [
    "output = Solution()\n",
    "final = output.mergeTwoLists(list1,list2)"
   ]
  },
  {
   "cell_type": "code",
   "execution_count": 4,
   "id": "02ba896a",
   "metadata": {},
   "outputs": [
    {
     "name": "stdout",
     "output_type": "stream",
     "text": [
      "1\n",
      "1\n",
      "2\n",
      "3\n",
      "4\n",
      "4\n"
     ]
    }
   ],
   "source": [
    "final.next.printList()"
   ]
  },
  {
   "cell_type": "code",
   "execution_count": null,
   "id": "9ae06f08",
   "metadata": {},
   "outputs": [],
   "source": []
  }
 ],
 "metadata": {
  "kernelspec": {
   "display_name": "Python 3 (ipykernel)",
   "language": "python",
   "name": "python3"
  },
  "language_info": {
   "codemirror_mode": {
    "name": "ipython",
    "version": 3
   },
   "file_extension": ".py",
   "mimetype": "text/x-python",
   "name": "python",
   "nbconvert_exporter": "python",
   "pygments_lexer": "ipython3",
   "version": "3.9.7"
  }
 },
 "nbformat": 4,
 "nbformat_minor": 5
}
