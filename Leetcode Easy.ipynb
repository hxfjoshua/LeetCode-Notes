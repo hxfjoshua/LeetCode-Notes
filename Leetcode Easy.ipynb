{
 "cells": [
  {
   "cell_type": "markdown",
   "id": "05b187a9",
   "metadata": {},
   "source": [
    "# 1. 1 Two Sum"
   ]
  },
  {
   "cell_type": "markdown",
   "id": "1600686c",
   "metadata": {},
   "source": [
    "Given an array of integers nums and an integer target, return indices of the two numbers such that they add up to target.\n",
    "\n",
    "You may assume that each input would have exactly one solution, and you may not use the same element twice.\n",
    "\n",
    "You can return the answer in any order."
   ]
  },
  {
   "cell_type": "markdown",
   "id": "adfff36f",
   "metadata": {},
   "source": [
    "### Solution (1) Hash map/dictionary key:value pair"
   ]
  },
  {
   "cell_type": "code",
   "execution_count": 3,
   "id": "cc7ac616",
   "metadata": {},
   "outputs": [],
   "source": [
    "thisdict = {\n",
    "  \"brand\": \"Ford\",\n",
    "  \"model\": \"Mustang\",\n",
    "  \"year\": 1964\n",
    "}"
   ]
  },
  {
   "cell_type": "code",
   "execution_count": 10,
   "id": "e785b752",
   "metadata": {},
   "outputs": [
    {
     "data": {
      "text/plain": [
       "'Mustang'"
      ]
     },
     "execution_count": 10,
     "metadata": {},
     "output_type": "execute_result"
    }
   ],
   "source": [
    "thisdict[\"model\"]"
   ]
  },
  {
   "cell_type": "code",
   "execution_count": 9,
   "id": "15e30b3a",
   "metadata": {},
   "outputs": [
    {
     "data": {
      "text/plain": [
       "True"
      ]
     },
     "execution_count": 9,
     "metadata": {},
     "output_type": "execute_result"
    }
   ],
   "source": [
    "\"brand\" in thisdict"
   ]
  },
  {
   "cell_type": "code",
   "execution_count": 28,
   "id": "948f6643",
   "metadata": {},
   "outputs": [],
   "source": [
    "def twoSum(nums, target):\n",
    "    prevMap = {} # initialize a dictionary value:index pair\n",
    "\n",
    "    for i, x in enumerate(nums):\n",
    "        diff = target - x\n",
    "        if diff in prevMap:\n",
    "            return [prevMap[diff], i]\n",
    "        prevMap[x] = i\n",
    "    return\n",
    "# adventage is only iterate the list once, faster"
   ]
  },
  {
   "cell_type": "code",
   "execution_count": 29,
   "id": "69876f4c",
   "metadata": {},
   "outputs": [
    {
     "data": {
      "text/plain": [
       "[1, 2]"
      ]
     },
     "execution_count": 29,
     "metadata": {},
     "output_type": "execute_result"
    }
   ],
   "source": [
    "nums = [3,2,4]\n",
    "target = 6\n",
    "twoSum(nums, target)"
   ]
  },
  {
   "cell_type": "markdown",
   "id": "d926e3d6",
   "metadata": {},
   "source": [
    "### Solution (2) left and right pointer, only applicable when the nums list is in ascending order"
   ]
  },
  {
   "cell_type": "code",
   "execution_count": 30,
   "id": "4698df07",
   "metadata": {},
   "outputs": [],
   "source": [
    "def twoSum(nums, target):\n",
    "        l, r = 0, len(nums) - 1 # initialize left, right pointer\n",
    "        \n",
    "        while l < r:\n",
    "            cur_sum = nums[l] + nums[r]\n",
    "            \n",
    "            if cur_sum > target:\n",
    "                r -= 1\n",
    "            elif cur_sum < target:\n",
    "                l += 1\n",
    "            else:\n",
    "                return [l, r]\n",
    "        return []"
   ]
  },
  {
   "cell_type": "code",
   "execution_count": 31,
   "id": "a9bdae8b",
   "metadata": {},
   "outputs": [
    {
     "data": {
      "text/plain": [
       "[0, 1]"
      ]
     },
     "execution_count": 31,
     "metadata": {},
     "output_type": "execute_result"
    }
   ],
   "source": [
    "nums = [2,7,11,15]\n",
    "target = 9\n",
    "twoSum(nums, target)"
   ]
  },
  {
   "cell_type": "markdown",
   "id": "162904b9",
   "metadata": {},
   "source": [
    "# 2.  9 Palindrome Number"
   ]
  },
  {
   "cell_type": "markdown",
   "id": "765df2c8",
   "metadata": {},
   "source": [
    "Given an integer x, return true if x is palindrome integer.\n",
    "\n",
    "An integer is a palindrome when it reads the same backward as forward.\n",
    "\n",
    "For example, 121 is a palindrome while 123 is not.\n",
    "\n",
    "Example 1:\n",
    "\n",
    "Input: x = 121\n",
    "Output: true\n",
    "Explanation: 121 reads as 121 from left to right and from right to left.\n",
    "\n",
    "Example 2:\n",
    "\n",
    "Input: x = -121\n",
    "Output: false\n",
    "Explanation: From left to right, it reads -121. From right to left, it becomes 121-. Therefore it is not a palindrome.\n",
    "\n",
    "Example 3:\n",
    "\n",
    "Input: x = 10\n",
    "Output: false\n",
    "Explanation: Reads 01 from right to left. Therefore it is not a palindrome."
   ]
  },
  {
   "cell_type": "markdown",
   "id": "e41d098d",
   "metadata": {},
   "source": [
    "### My solution"
   ]
  },
  {
   "cell_type": "markdown",
   "id": "e9d98a69",
   "metadata": {},
   "source": [
    "Runtime: 115 ms, faster than 31.83% of Python3 online submissions for Palindrome Number.\n",
    "    \n",
    "Memory Usage: 14 MB, less than 16.23% of Python3 online submissions for Palindrome Number."
   ]
  },
  {
   "cell_type": "code",
   "execution_count": 46,
   "id": "061cbef6",
   "metadata": {},
   "outputs": [],
   "source": [
    "def isPalindrome(x):\n",
    "        x_chars = str(x)\n",
    "        l, r = 0, len(x_chars) - 1\n",
    "        outputs = [None] * (len(x_chars)//2)\n",
    "        for i in range(0,len(x_chars)//2):\n",
    "            if x_chars[l] == x_chars[r]:\n",
    "                outputs[i] = True\n",
    "            else:\n",
    "                outputs[i] = False\n",
    "            l += 1\n",
    "            r -= 1\n",
    "        return all(outputs)"
   ]
  },
  {
   "cell_type": "code",
   "execution_count": 47,
   "id": "94ee8ccd",
   "metadata": {},
   "outputs": [
    {
     "data": {
      "text/plain": [
       "False"
      ]
     },
     "execution_count": 47,
     "metadata": {},
     "output_type": "execute_result"
    }
   ],
   "source": [
    "x = 10022201\n",
    "isPalindrome(x)"
   ]
  },
  {
   "cell_type": "code",
   "execution_count": 49,
   "id": "eee9f132",
   "metadata": {},
   "outputs": [
    {
     "data": {
      "text/plain": [
       "True"
      ]
     },
     "execution_count": 49,
     "metadata": {},
     "output_type": "execute_result"
    }
   ],
   "source": [
    "x = 121\n",
    "isPalindrome(x)"
   ]
  },
  {
   "cell_type": "markdown",
   "id": "ff515524",
   "metadata": {},
   "source": [
    "### Follow up: Could you solve it without converting the integer to a string?"
   ]
  },
  {
   "cell_type": "code",
   "execution_count": 50,
   "id": "bc492a7c",
   "metadata": {},
   "outputs": [],
   "source": [
    "def isPalindrome(x):\n",
    "    if x < 0: return False # negative number is not palindrome\n",
    "        \n",
    "    div = 1 #initialize dividend\n",
    "    while x > div * 10:\n",
    "        div *= 10 # find the largest dividend that is not exceeding the target number\n",
    "\n",
    "    while x:\n",
    "        right = x % 10 #get the right end digit by using modulo operater to get remainder\n",
    "        left = x // div #get the left end digit by using floor division operator to round down\n",
    "\n",
    "        if right != left: return False\n",
    "\n",
    "        x = (x % div) // 10 #removing left and right ends digit\n",
    "        div = div / 100 #reset the dividend, because we removed 2 digits\n",
    "\n",
    "    return True"
   ]
  },
  {
   "cell_type": "code",
   "execution_count": 51,
   "id": "515b503f",
   "metadata": {},
   "outputs": [
    {
     "data": {
      "text/plain": [
       "False"
      ]
     },
     "execution_count": 51,
     "metadata": {},
     "output_type": "execute_result"
    }
   ],
   "source": [
    "x = 10022201\n",
    "isPalindrome(x)"
   ]
  },
  {
   "cell_type": "code",
   "execution_count": 52,
   "id": "b14f4e74",
   "metadata": {},
   "outputs": [
    {
     "data": {
      "text/plain": [
       "True"
      ]
     },
     "execution_count": 52,
     "metadata": {},
     "output_type": "execute_result"
    }
   ],
   "source": [
    "x = 121\n",
    "isPalindrome(x)"
   ]
  },
  {
   "cell_type": "markdown",
   "id": "8c8625be",
   "metadata": {},
   "source": [
    "# 3. 13 Roman to Integer"
   ]
  },
  {
   "cell_type": "markdown",
   "id": "e94b23c6",
   "metadata": {},
   "source": [
    "Roman numerals are represented by seven different symbols: I, V, X, L, C, D and M.\n",
    "\n",
    "Symbol       Value\n",
    "I             1\n",
    "V             5\n",
    "X             10\n",
    "L             50\n",
    "C             100\n",
    "D             500\n",
    "M             1000\n",
    "\n",
    "For example, 2 is written as II in Roman numeral, just two ones added together. 12 is written as XII, which is simply X + II. The number 27 is written as XXVII, which is XX + V + II.\n",
    "\n",
    "Roman numerals are usually written largest to smallest from left to right. However, the numeral for four is not IIII. Instead, the number four is written as IV. Because the one is before the five we subtract it making four. The same principle applies to the number nine, which is written as IX. There are six instances where subtraction is used:\n",
    "\n",
    "I can be placed before V (5) and X (10) to make 4 and 9. \n",
    "X can be placed before L (50) and C (100) to make 40 and 90. \n",
    "C can be placed before D (500) and M (1000) to make 400 and 900.\n",
    "Given a roman numeral, convert it to an integer."
   ]
  },
  {
   "cell_type": "markdown",
   "id": "910c67d3",
   "metadata": {},
   "source": [
    "### My solution"
   ]
  },
  {
   "cell_type": "markdown",
   "id": "fb3133b6",
   "metadata": {},
   "source": [
    "Runtime: 87 ms, faster than 33.45% of Python3 online submissions for Roman to Integer.\n",
    "    \n",
    "Memory Usage: 13.9 MB, less than 76.66% of Python3 online submissions for Roman to Integer."
   ]
  },
  {
   "cell_type": "markdown",
   "id": "3924621e",
   "metadata": {},
   "source": [
    "My logic was to invert the string first, start adding numbers from smaller roman letters. If a roman letter is smaller than the one on its right (previous letter from iteration), then this one should be subtracted.\n",
    "\n",
    "It works similar without reverting the string."
   ]
  },
  {
   "cell_type": "code",
   "execution_count": 69,
   "id": "fed65e60",
   "metadata": {},
   "outputs": [],
   "source": [
    "def romanToInt(s):\n",
    "        \n",
    "    look_up = {\"I\" : 1,\n",
    "      \"V\" : 5,\n",
    "      \"X\" : 10,\n",
    "      \"L\" : 50,\n",
    "      \"C\" : 100,\n",
    "      \"D\" : 500,\n",
    "      \"M\" : 1000}\n",
    "\n",
    "    s_invert = s[::-1]\n",
    "    num = 0\n",
    "\n",
    "    for ind, roman in enumerate(s_invert):\n",
    "        if ind > 0 and look_up[roman] < look_up[s_invert[ind-1]]:\n",
    "            num -= look_up[roman]\n",
    "        else:\n",
    "            num += look_up[roman]\n",
    "    return num\n"
   ]
  },
  {
   "cell_type": "code",
   "execution_count": 70,
   "id": "31340a88",
   "metadata": {},
   "outputs": [
    {
     "data": {
      "text/plain": [
       "1994"
      ]
     },
     "execution_count": 70,
     "metadata": {},
     "output_type": "execute_result"
    }
   ],
   "source": [
    "s = \"MCMXCIV\"\n",
    "romanToInt(s)"
   ]
  },
  {
   "cell_type": "markdown",
   "id": "2bb73713",
   "metadata": {},
   "source": [
    "# 4. 14 Longest Common Prefix"
   ]
  },
  {
   "cell_type": "markdown",
   "id": "83d5bc80",
   "metadata": {},
   "source": [
    "Write a function to find the longest common prefix string amongst an array of strings.\n",
    "\n",
    "If there is no common prefix, return an empty string \"\".\n",
    "\n",
    "example: Input: strs = [\"flower\",\"flow\",\"flight\"]\n",
    "Output: \"fl\""
   ]
  },
  {
   "cell_type": "markdown",
   "id": "3d69fb1f",
   "metadata": {},
   "source": [
    "### My solution"
   ]
  },
  {
   "cell_type": "markdown",
   "id": "2316e0e0",
   "metadata": {},
   "source": [
    "Runtime: 56 ms, faster than 47.97% of Python3 online submissions for Longest Common Prefix.\n",
    "\n",
    "Memory Usage: 13.8 MB, less than 99.38% of Python3 online submissions for Longest Common Prefix."
   ]
  },
  {
   "cell_type": "code",
   "execution_count": 123,
   "id": "49b3387a",
   "metadata": {},
   "outputs": [],
   "source": [
    "def longestCommonPrefix(strs):\n",
    "        \n",
    "    # find the shortest string in the list\n",
    "    short_str = min(strs, key = len)\n",
    "    # get the length of shortest string\n",
    "    short_len = len(short_str)\n",
    "\n",
    "    i = 0\n",
    "    result = \"\"\n",
    "    # in the while condition, (1) we don't want to iterate more than the shortest string\n",
    "    # (2) compare the letters on the same location across all strings, continue iteration if they all equal\n",
    "    # So the while loop only iterate based on the letter index\n",
    "    # [x[i] for x in strs] gives the letter on ith index of all strings\n",
    "    while i < short_len and all(val == strs[0][i] for val in [x[i] for x in strs]):\n",
    "        result += strs[0][i] # append the common letter \n",
    "        i += 1\n",
    "\n",
    "    return result"
   ]
  },
  {
   "cell_type": "code",
   "execution_count": 124,
   "id": "9f7a8b15",
   "metadata": {},
   "outputs": [
    {
     "data": {
      "text/plain": [
       "''"
      ]
     },
     "execution_count": 124,
     "metadata": {},
     "output_type": "execute_result"
    }
   ],
   "source": [
    "strs = [\"Today\", \"is\", \"Tuesday\"]\n",
    "longestCommonPrefix(strs)"
   ]
  },
  {
   "cell_type": "code",
   "execution_count": 125,
   "id": "a5e002c8",
   "metadata": {},
   "outputs": [
    {
     "data": {
      "text/plain": [
       "'Ti'"
      ]
     },
     "execution_count": 125,
     "metadata": {},
     "output_type": "execute_result"
    }
   ],
   "source": [
    "strs = [\"Tiger\", \"Tiktok\", \"Tickets\"]\n",
    "longestCommonPrefix(strs)"
   ]
  },
  {
   "cell_type": "markdown",
   "id": "f49da3a1",
   "metadata": {},
   "source": [
    "# 5. 20 Valid Parentheses"
   ]
  },
  {
   "cell_type": "markdown",
   "id": "e7ca72e3",
   "metadata": {},
   "source": [
    "Given a string s containing just the characters '(', ')', '{', '}', '[' and ']', determine if the input string is valid.\n",
    "\n",
    "An input string is valid if:\n",
    "\n",
    "1.Open brackets must be closed by the same type of brackets.\n",
    "\n",
    "2.Open brackets must be closed in the correct order.\n",
    "\n",
    "Example: \"()[]{}\" is valid; \"([)]\" in not valid; \"(){}[[[]]]\" is valid"
   ]
  },
  {
   "cell_type": "markdown",
   "id": "b0097a84",
   "metadata": {},
   "source": [
    "### Solution 1"
   ]
  },
  {
   "cell_type": "markdown",
   "id": "a922fc42",
   "metadata": {},
   "source": [
    "Since `()`, `[]`, and `{}` should be present in pairs, then we can search for those substrings and replaced by empty strings. If in the end we get an empty string, which means the string is a valid praentheses. "
   ]
  },
  {
   "cell_type": "code",
   "execution_count": 20,
   "id": "94a1c29b",
   "metadata": {},
   "outputs": [],
   "source": [
    "def isValid(s):\n",
    "    for i in range(len(s)):\n",
    "        if \"()\" in s:\n",
    "            s=s.replace(\"()\",\"\")\n",
    "        if \"[]\" in s:\n",
    "            s=s.replace(\"[]\",\"\")\n",
    "        if \"{}\" in s:\n",
    "            s=s.replace(\"{}\",\"\")\n",
    "    return True if len(s) == 0 else False"
   ]
  },
  {
   "cell_type": "code",
   "execution_count": 21,
   "id": "043869ef",
   "metadata": {},
   "outputs": [
    {
     "data": {
      "text/plain": [
       "True"
      ]
     },
     "execution_count": 21,
     "metadata": {},
     "output_type": "execute_result"
    }
   ],
   "source": [
    "s = \"({})\"\n",
    "isValid(s)"
   ]
  },
  {
   "cell_type": "code",
   "execution_count": 22,
   "id": "a736b40b",
   "metadata": {},
   "outputs": [
    {
     "data": {
      "text/plain": [
       "False"
      ]
     },
     "execution_count": 22,
     "metadata": {},
     "output_type": "execute_result"
    }
   ],
   "source": [
    "s=\"[(])\"\n",
    "isValid(s)"
   ]
  },
  {
   "cell_type": "markdown",
   "id": "7964be40",
   "metadata": {},
   "source": [
    "### Solution 2:"
   ]
  },
  {
   "cell_type": "markdown",
   "id": "d55b4220",
   "metadata": {},
   "source": [
    "Use stack data structure, *.append() to add character, *.pop() to remove a character, default is to remove the last one."
   ]
  },
  {
   "cell_type": "code",
   "execution_count": 38,
   "id": "b9c7fbb9",
   "metadata": {},
   "outputs": [],
   "source": [
    "def isValid(s):\n",
    "    stack = []\n",
    "    p_dict = {\")\":\"(\",\n",
    "             \"]\":\"[\",\n",
    "             \"}\":\"{\"}\n",
    "\n",
    "    for c in s:\n",
    "        # test if current parenthese is a closing one, if not, append it to the list\n",
    "        if c in p_dict:\n",
    "            # if stack is empty list, no need to do anything; \n",
    "            # test if current closing parentheses matches with previous opening parentheses.\n",
    "            if stack and stack[-1] == p_dict[c]: \n",
    "                stack.pop() # if matches, then remove the existing opening parenthese\n",
    "            else: \n",
    "                return False\n",
    "        else: stack.append(c)\n",
    "    # empty list is considered as False boolean value\n",
    "    return True if not stack else False"
   ]
  },
  {
   "cell_type": "code",
   "execution_count": 39,
   "id": "dfee01ae",
   "metadata": {},
   "outputs": [
    {
     "data": {
      "text/plain": [
       "True"
      ]
     },
     "execution_count": 39,
     "metadata": {},
     "output_type": "execute_result"
    }
   ],
   "source": [
    "s = \"({})\"\n",
    "isValid(s)"
   ]
  },
  {
   "cell_type": "code",
   "execution_count": 40,
   "id": "2e3a3930",
   "metadata": {},
   "outputs": [
    {
     "data": {
      "text/plain": [
       "False"
      ]
     },
     "execution_count": 40,
     "metadata": {},
     "output_type": "execute_result"
    }
   ],
   "source": [
    "s=\"[(])\"\n",
    "isValid(s)"
   ]
  },
  {
   "cell_type": "markdown",
   "id": "5b3370cc",
   "metadata": {},
   "source": [
    "# 6. 21 Merge Two Sorted Lists"
   ]
  },
  {
   "cell_type": "markdown",
   "id": "0deaa319",
   "metadata": {},
   "source": [
    "You are given the heads of two sorted linked lists list1 and list2.\n",
    "\n",
    "Merge the two lists in a one sorted list. The list should be made by splicing together the nodes of the first two lists.\n",
    "\n",
    "Return the head of the merged linked list.\n",
    "\n",
    "Input: list1 = [1,2,4], list2 = [1,3,4]\n",
    "Output: [1,1,2,3,4,4]\n",
    "\n",
    "Input: list1 = [], list2 = []\n",
    "Output: []\n",
    "\n",
    "Input: list1 = [], list2 = [0]\n",
    "Output: [0]\n",
    "\n",
    "Good fundamental explaination of solving the problem. https://www.youtube.com/watch?v=GfRQvf7MB3k"
   ]
  },
  {
   "cell_type": "code",
   "execution_count": 9,
   "id": "0dfcd04d",
   "metadata": {},
   "outputs": [],
   "source": [
    "# Definition for singly-linked list.\n",
    "class ListNode:\n",
    "    def __init__(self, val=0, next=None):\n",
    "        self.val = val\n",
    "        self.next = next\n",
    "        \n",
    "    def printList(self):\n",
    "        temp = self\n",
    "        while (temp):\n",
    "            print (temp.val)\n",
    "            temp = temp.next\n",
    "        \n",
    "class Solution:\n",
    "#     def mergeTwoLists(self, list1: Optional[ListNode], list2: Optional[ListNode]) -> Optional[ListNode]:\n",
    "    def mergeTwoLists(self, list1, list2): \n",
    "        dummy = ListNode() #Creating dummy head to avoid writing additional code for edge cases.\n",
    "        output = dummy\n",
    "\n",
    "        while list1 and list2: # when both list1 and list2 nodes are none NULL, comparison is meaningful.\n",
    "            if list1.val < list2.val:\n",
    "                output.next = list1 #if list1 value is smaller, add current list1 node to output list\n",
    "                list1 = list1.next #move list1 pointer to the next list1 node\n",
    "            else:\n",
    "                output.next = list2\n",
    "                list2 = list2.next\n",
    "            output = output.next\n",
    "        #When at least one of the list has used all the nodes,\n",
    "        #the rest of the nodes in the other list can be all added to output\n",
    "        if list1:\n",
    "            output.next = list1\n",
    "        elif list2:\n",
    "            output.next = list2\n",
    "\n",
    "        return dummy.next \n"
   ]
  },
  {
   "cell_type": "code",
   "execution_count": 10,
   "id": "d46ea266",
   "metadata": {},
   "outputs": [],
   "source": [
    "#list1 = [1,2,4]; list2 = [1,3,4]\n",
    "list1 = ListNode(1)\n",
    "e2 = ListNode(2)\n",
    "e3 = ListNode(4)\n",
    "list1.next = e2\n",
    "e2.next = e3\n",
    "\n",
    "list2 = ListNode(1)\n",
    "f2 = ListNode(3)\n",
    "f3 = ListNode(4)\n",
    "list2.next = f2\n",
    "f2.next = f3"
   ]
  },
  {
   "cell_type": "code",
   "execution_count": 11,
   "id": "06e424f4",
   "metadata": {},
   "outputs": [],
   "source": [
    "output = Solution()\n",
    "final = output.mergeTwoLists(list1,list2)"
   ]
  },
  {
   "cell_type": "code",
   "execution_count": 12,
   "id": "87fbbc82",
   "metadata": {},
   "outputs": [
    {
     "name": "stdout",
     "output_type": "stream",
     "text": [
      "1\n",
      "1\n",
      "2\n",
      "3\n",
      "4\n",
      "4\n"
     ]
    }
   ],
   "source": [
    "final.printList()"
   ]
  },
  {
   "cell_type": "markdown",
   "id": "3dab22e1",
   "metadata": {},
   "source": [
    "# 7. 26 Remove Duplicates from Sorted Array"
   ]
  },
  {
   "cell_type": "markdown",
   "id": "8bf0e77e",
   "metadata": {},
   "source": [
    "Given an integer array nums sorted in non-decreasing order, remove the duplicates in-place such that each unique element appears only once. The relative order of the elements should be kept the same.\n",
    "\n",
    "Since it is impossible to change the length of the array in some languages, you must instead have the result be placed in the first part of the array nums. More formally, if there are k elements after removing the duplicates, then the first k elements of nums should hold the final result. It does not matter what you leave beyond the first k elements.\n",
    "\n",
    "Return k after placing the final result in the first k slots of nums.\n",
    "\n",
    "Do not allocate extra space for another array. You must do this by modifying the input array **in-place** with O(1) extra memory.\n",
    "\n",
    "Example:\n",
    "\n",
    "Input: nums = [0,0,1,1,1,2,2,3,3,4]\n",
    "\n",
    "Output: 5, nums = [0,1,2,3,4,_,_,_,_,_]"
   ]
  },
  {
   "cell_type": "markdown",
   "id": "40d89bcc",
   "metadata": {},
   "source": [
    "Solution idea: use 2 pointers, left and right. Left pointer is the location to replace value, it is updated when a different value is found; right pointer updates over the for loop, it is used to decide if the current value is different from previous one. If a different value is found, value at left pointer location gets replaced by the value at right pointer location."
   ]
  },
  {
   "cell_type": "code",
   "execution_count": 13,
   "id": "5714f71e",
   "metadata": {},
   "outputs": [],
   "source": [
    "def removeDuplicates(nums):\n",
    "        \n",
    "    l = 1 \n",
    "\n",
    "    for r in range(1,len(nums)):\n",
    "        if nums[r] != nums[r-1]:\n",
    "            nums[l] = nums[r]\n",
    "            l += 1\n",
    "    return l"
   ]
  },
  {
   "cell_type": "code",
   "execution_count": 14,
   "id": "8c3c1297",
   "metadata": {},
   "outputs": [
    {
     "data": {
      "text/plain": [
       "5"
      ]
     },
     "execution_count": 14,
     "metadata": {},
     "output_type": "execute_result"
    }
   ],
   "source": [
    "nums =  [0,0,1,1,1,2,2,3,3,4]\n",
    "removeDuplicates(nums)"
   ]
  },
  {
   "cell_type": "markdown",
   "id": "7612efbf",
   "metadata": {},
   "source": [
    "# 8. 27 Remove Element"
   ]
  },
  {
   "cell_type": "markdown",
   "id": "738c308f",
   "metadata": {},
   "source": [
    "Given an integer array nums and an integer val, remove all occurrences of val in nums in-place. The relative order of the elements may be changed.\n",
    "\n",
    "Since it is impossible to change the length of the array in some languages, you must instead have the result be placed in the first part of the array nums. More formally, if there are k elements after removing the duplicates, then the first k elements of nums should hold the final result. It does not matter what you leave beyond the first k elements.\n",
    "\n",
    "Return k after placing the final result in the first k slots of nums.\n",
    "\n",
    "Do not allocate extra space for another array. You must do this by modifying the input array in-place with O(1) extra memory.\n",
    "\n",
    "Example:\n",
    "\n",
    "Input: nums = [0,1,2,2,3,0,4,2], val = 2\n",
    "\n",
    "Output: 5, nums = [0,1,4,0,3,_,_,_]\n",
    "\n",
    "Explanation: Your function should return k = 5, with the first five elements of nums containing 0, 0, 1, 3, and 4.\n",
    "Note that the five elements can be returned in any order.\n",
    "It does not matter what you leave beyond the returned k (hence they are underscores)."
   ]
  },
  {
   "cell_type": "markdown",
   "id": "5f43ff20",
   "metadata": {},
   "source": [
    "Solution idea is similar to the previous question. Using one pointer, k, to hold the location where the replacement gonna happen, another pointer, r, iterates across all element and compare with the target value. "
   ]
  },
  {
   "cell_type": "code",
   "execution_count": 15,
   "id": "753cbb8a",
   "metadata": {},
   "outputs": [],
   "source": [
    "def removeElement(nums, val):\n",
    "        \n",
    "    k = 0\n",
    "\n",
    "    for r in range(len(nums)):\n",
    "        if nums[r] != val:\n",
    "            nums[k] = nums[r]\n",
    "            k += 1\n",
    "    return k"
   ]
  },
  {
   "cell_type": "code",
   "execution_count": 16,
   "id": "dbaf24cd",
   "metadata": {},
   "outputs": [
    {
     "data": {
      "text/plain": [
       "5"
      ]
     },
     "execution_count": 16,
     "metadata": {},
     "output_type": "execute_result"
    }
   ],
   "source": [
    "nums = [0,1,2,2,3,0,4,2]\n",
    "val = 2\n",
    "removeElement(nums, val)"
   ]
  },
  {
   "cell_type": "markdown",
   "id": "d078999d",
   "metadata": {},
   "source": [
    "# 9. 28 Implement strStr()"
   ]
  },
  {
   "cell_type": "markdown",
   "id": "c65d788c",
   "metadata": {},
   "source": [
    "Implement strStr().\n",
    "\n",
    "Given two strings needle and haystack, return the index of the first occurrence of needle in haystack, or -1 if needle is not part of haystack.\n",
    "\n",
    "Clarification:\n",
    "\n",
    "What should we return when needle is an empty string? This is a great question to ask during an interview.\n",
    "\n",
    "For the purpose of this problem, we will return 0 when needle is an empty string. This is consistent to C's strstr() and Java's indexOf().\n",
    "\n",
    "Constraints:\n",
    "\n",
    "1 <= haystack.length, needle.length <= 10^4\n",
    "\n",
    "haystack and needle consist of only lowercase English characters.\n",
    "\n",
    "Example 1:\n",
    "\n",
    "Input: haystack = \"hello\", needle = \"ll\"\n",
    "Output: 2\n",
    "\n",
    "Example 2:\n",
    "\n",
    "Input: haystack = \"aaaaa\", needle = \"bba\"\n",
    "Output: -1"
   ]
  },
  {
   "cell_type": "markdown",
   "id": "894a3623",
   "metadata": {},
   "source": [
    "### My solution\n",
    "Kind of tedious.\n",
    "\n",
    "Special case need to take care: (1) when needle length is 0, return 0; (2) when needle length is bigger than haystack_len, return -1"
   ]
  },
  {
   "cell_type": "code",
   "execution_count": 26,
   "id": "778224df",
   "metadata": {},
   "outputs": [],
   "source": [
    "def strStr(haystack, needle):\n",
    "        \n",
    "    haystack_len = len(haystack)\n",
    "    needle_len = len(needle)\n",
    "    \n",
    "    if needle_len == 0:\n",
    "        return int(0)\n",
    "    elif needle_len > haystack_len:\n",
    "        return int(-1)\n",
    "    else:\n",
    "        for i in range(haystack_len - needle_len + 1): # here +1 is important to index the last substring in haystack, think about why!!!\n",
    "            if haystack[i:i+needle_len] == needle:\n",
    "                return i\n",
    "                break\n",
    "            elif i == haystack_len - needle_len:\n",
    "                return int(-1)"
   ]
  },
  {
   "cell_type": "code",
   "execution_count": 27,
   "id": "c8b128a0",
   "metadata": {},
   "outputs": [
    {
     "data": {
      "text/plain": [
       "-1"
      ]
     },
     "execution_count": 27,
     "metadata": {},
     "output_type": "execute_result"
    }
   ],
   "source": [
    "haystack = \"aaaaa\"\n",
    "needle = \"bba\" \n",
    "strStr(haystack, needle)"
   ]
  },
  {
   "cell_type": "code",
   "execution_count": 28,
   "id": "0a9ca2b3",
   "metadata": {},
   "outputs": [
    {
     "data": {
      "text/plain": [
       "0"
      ]
     },
     "execution_count": 28,
     "metadata": {},
     "output_type": "execute_result"
    }
   ],
   "source": [
    "haystack = \"a\"\n",
    "needle = \"a\" \n",
    "strStr(haystack, needle)"
   ]
  },
  {
   "cell_type": "code",
   "execution_count": 29,
   "id": "2955efb1",
   "metadata": {},
   "outputs": [
    {
     "data": {
      "text/plain": [
       "2"
      ]
     },
     "execution_count": 29,
     "metadata": {},
     "output_type": "execute_result"
    }
   ],
   "source": [
    "haystack = \"abc\"\n",
    "needle = \"c\" \n",
    "strStr(haystack, needle)"
   ]
  },
  {
   "cell_type": "code",
   "execution_count": 30,
   "id": "d7d42a47",
   "metadata": {},
   "outputs": [
    {
     "data": {
      "text/plain": [
       "-1"
      ]
     },
     "execution_count": 30,
     "metadata": {},
     "output_type": "execute_result"
    }
   ],
   "source": [
    "haystack = \"aaa\"\n",
    "needle = \"aaaa\" \n",
    "strStr(haystack, needle)"
   ]
  },
  {
   "cell_type": "markdown",
   "id": "ccb9b21a",
   "metadata": {},
   "source": [
    "### Solution 2"
   ]
  },
  {
   "cell_type": "code",
   "execution_count": 33,
   "id": "c89ada1a",
   "metadata": {},
   "outputs": [],
   "source": [
    "def strStr(haystack, needle):\n",
    "    \n",
    "    if needle not in haystack:\n",
    "            return (-1)\n",
    "    else:\n",
    "        i = haystack.index(needle) #built-in function index() is handy!\n",
    "        return i"
   ]
  },
  {
   "cell_type": "code",
   "execution_count": 34,
   "id": "845bbec9",
   "metadata": {},
   "outputs": [
    {
     "data": {
      "text/plain": [
       "-1"
      ]
     },
     "execution_count": 34,
     "metadata": {},
     "output_type": "execute_result"
    }
   ],
   "source": [
    "haystack = \"aaa\"\n",
    "needle = \"aaaa\" \n",
    "strStr(haystack, needle)"
   ]
  },
  {
   "cell_type": "code",
   "execution_count": 35,
   "id": "c4435f96",
   "metadata": {},
   "outputs": [
    {
     "data": {
      "text/plain": [
       "0"
      ]
     },
     "execution_count": 35,
     "metadata": {},
     "output_type": "execute_result"
    }
   ],
   "source": [
    "haystack = \"a\"\n",
    "needle = \"a\" \n",
    "strStr(haystack, needle)"
   ]
  },
  {
   "cell_type": "markdown",
   "id": "45440dca",
   "metadata": {},
   "source": [
    "# 10. 35 Search Insert Position"
   ]
  },
  {
   "cell_type": "markdown",
   "id": "51b588ec",
   "metadata": {},
   "source": [
    "Given a sorted array of distinct integers and a target value, return the index if the target is found. If not, return the index where it would be if it were inserted in order.\n",
    "\n",
    "You must write an algorithm with O(log n) runtime complexity.\n",
    "\n",
    "Example 1:\n",
    "\n",
    "Input: nums = [1,3,5,6], target = 5\n",
    "Output: 2\n",
    "\n",
    "Example 2:\n",
    "\n",
    "Input: nums = [1,3,5,6], target = 2\n",
    "Output: 1\n",
    "\n",
    "Constraints:\n",
    "\n",
    "1 <= nums.length <= 10^4\n",
    "\n",
    "-10^4 <= nums[i] <= 10^4\n",
    "\n",
    "nums contains distinct values sorted in ascending order.\n",
    "\n",
    "-10^4 <= target <= 10^4"
   ]
  },
  {
   "cell_type": "markdown",
   "id": "b6a89d8f",
   "metadata": {},
   "source": [
    "### My solution"
   ]
  },
  {
   "cell_type": "markdown",
   "id": "2d835af0",
   "metadata": {},
   "source": [
    "My solution is simple but not very efficient, essentially still compare each element in the array. So the runtime complexity is O(n). The requirement is O(log n)."
   ]
  },
  {
   "cell_type": "code",
   "execution_count": 46,
   "id": "c3f0e00d",
   "metadata": {},
   "outputs": [],
   "source": [
    "def searchInsert(nums, target):\n",
    "        \n",
    "    if target in nums:\n",
    "        return nums.index(target)\n",
    "    else:\n",
    "        nums.append(target)\n",
    "        nums.sort()\n",
    "        return nums.index(target)"
   ]
  },
  {
   "cell_type": "code",
   "execution_count": 47,
   "id": "9fd85fb6",
   "metadata": {},
   "outputs": [
    {
     "data": {
      "text/plain": [
       "2"
      ]
     },
     "execution_count": 47,
     "metadata": {},
     "output_type": "execute_result"
    }
   ],
   "source": [
    "nums = [1,3,5,6]\n",
    "target = 5\n",
    "searchInsert(nums, target)"
   ]
  },
  {
   "cell_type": "code",
   "execution_count": 48,
   "id": "26d993b4",
   "metadata": {},
   "outputs": [
    {
     "data": {
      "text/plain": [
       "1"
      ]
     },
     "execution_count": 48,
     "metadata": {},
     "output_type": "execute_result"
    }
   ],
   "source": [
    "nums = [1,3,5,6]\n",
    "target = 2\n",
    "searchInsert(nums, target)"
   ]
  },
  {
   "cell_type": "markdown",
   "id": "ac8a129f",
   "metadata": {},
   "source": [
    "## Binary Search solution"
   ]
  },
  {
   "cell_type": "markdown",
   "id": "079e6340",
   "metadata": {},
   "source": [
    "Linear Search Approach: A simple approach is to do a linear search. The time complexity of the Linear search is O(n).\n",
    "\n",
    "Binary Search is a searching algorithm used in a __sorted array__ by repeatedly dividing the search interval in half. The idea of binary search is to use the information that the array is sorted and reduce the time complexity to O(Log n). \n",
    "\n",
    "__Binary Search Algorithm__\n",
    "\n",
    "The basic steps to perform Binary Search are:\n",
    "\n",
    "* Begin with the mid element of the whole array as a search key.\n",
    "* If the value of the search key is equal to the item then return an index of the search key.\n",
    "* Or if the value of the search key is less than the item in the middle of the interval, narrow the interval to the lower half.\n",
    "* Otherwise, narrow it to the upper half.\n",
    "* Repeatedly check from the second point until the value is found or the interval is empty."
   ]
  },
  {
   "cell_type": "code",
   "execution_count": 49,
   "id": "9185f61b",
   "metadata": {},
   "outputs": [],
   "source": [
    "def searchInsert(nums, target):\n",
    "    l, r = 0, len(nums) - 1 #initialize left and right pointers\n",
    "    \n",
    "    while l <= r:\n",
    "        mid = (l+r)//2 #everytime when left/right get updated, recalculate middle pointer\n",
    "        \n",
    "        if nums[mid] == target:\n",
    "            return mid\n",
    "        \n",
    "        if nums[mid] < target:\n",
    "            l = mid + 1 # update left/right point much faster using the location of mid pointer, especially when the array is large.\n",
    "        else:\n",
    "            r = mid - 1\n",
    "        \n",
    "    return l #return left pointer, because when while loop break due to l > r, l location is always the location for target."
   ]
  },
  {
   "cell_type": "code",
   "execution_count": 50,
   "id": "f3c166a5",
   "metadata": {},
   "outputs": [
    {
     "data": {
      "text/plain": [
       "1"
      ]
     },
     "execution_count": 50,
     "metadata": {},
     "output_type": "execute_result"
    }
   ],
   "source": [
    "nums = [1,3,5,6,7]\n",
    "target = 3\n",
    "searchInsert(nums, target)"
   ]
  },
  {
   "cell_type": "code",
   "execution_count": 51,
   "id": "316bf7f4",
   "metadata": {},
   "outputs": [
    {
     "data": {
      "text/plain": [
       "3"
      ]
     },
     "execution_count": 51,
     "metadata": {},
     "output_type": "execute_result"
    }
   ],
   "source": [
    "nums = [1,2,3,5,7,8]\n",
    "target = 4\n",
    "searchInsert(nums, target)"
   ]
  },
  {
   "cell_type": "markdown",
   "id": "9511bc29",
   "metadata": {},
   "source": [
    "# 11. 58 Length of Last Word"
   ]
  },
  {
   "cell_type": "markdown",
   "id": "5c3971b8",
   "metadata": {},
   "source": [
    "Given a string s consisting of words and spaces, return the length of the last word in the string.\n",
    "\n",
    "A word is a maximal substring consisting of non-space characters only.\n",
    "\n",
    "Example 1:\n",
    "\n",
    "Input: s = \"Hello World\"\n",
    "Output: 5\n",
    "Explanation: The last word is \"World\" with length 5.\n",
    "\n",
    "Example 2:\n",
    "\n",
    "Input: s = \"   fly me   to   the moon  \"\n",
    "Output: 4\n",
    "Explanation: The last word is \"moon\" with length 4."
   ]
  },
  {
   "cell_type": "markdown",
   "id": "d4595dbc",
   "metadata": {},
   "source": [
    "### My Solution"
   ]
  },
  {
   "cell_type": "code",
   "execution_count": 59,
   "id": "9ac05849",
   "metadata": {},
   "outputs": [],
   "source": [
    "def lengthOfLastWord(s):\n",
    "    words = s.split()\n",
    "\n",
    "    return len(words[-1])"
   ]
  },
  {
   "cell_type": "code",
   "execution_count": 60,
   "id": "7b0e9146",
   "metadata": {},
   "outputs": [
    {
     "data": {
      "text/plain": [
       "5"
      ]
     },
     "execution_count": 60,
     "metadata": {},
     "output_type": "execute_result"
    }
   ],
   "source": [
    "s = \"Hello World\"\n",
    "lengthOfLastWord(s)"
   ]
  },
  {
   "cell_type": "code",
   "execution_count": 61,
   "id": "ea5c382b",
   "metadata": {},
   "outputs": [
    {
     "data": {
      "text/plain": [
       "4"
      ]
     },
     "execution_count": 61,
     "metadata": {},
     "output_type": "execute_result"
    }
   ],
   "source": [
    "s = \" fly me to the moon \"\n",
    "lengthOfLastWord(s)"
   ]
  },
  {
   "cell_type": "markdown",
   "id": "1e412904",
   "metadata": {},
   "source": [
    "### Solution 2, not using built-in function"
   ]
  },
  {
   "cell_type": "code",
   "execution_count": 62,
   "id": "e58f3ca2",
   "metadata": {},
   "outputs": [],
   "source": [
    "def lengthOfLastWord(s):\n",
    "    i, length = len(s) - 1, 0 #initialize pointer i from the end of the string to save time interating from the beginning.\n",
    "        \n",
    "    while s[i] == \" \": # find the starting point of non-whitespace.\n",
    "        i -= 1 \n",
    "\n",
    "    while i >= 0 and s[i] != \" \": # only iterate the non-whitespace substring.\n",
    "        length += 1\n",
    "        i -= 1 # remember to update pointer, otherwise will loop forever\n",
    "\n",
    "    return length"
   ]
  },
  {
   "cell_type": "code",
   "execution_count": 63,
   "id": "1974f9f4",
   "metadata": {},
   "outputs": [
    {
     "data": {
      "text/plain": [
       "5"
      ]
     },
     "execution_count": 63,
     "metadata": {},
     "output_type": "execute_result"
    }
   ],
   "source": [
    "s = \"Hello World\"\n",
    "lengthOfLastWord(s)"
   ]
  },
  {
   "cell_type": "code",
   "execution_count": 64,
   "id": "c935bd60",
   "metadata": {},
   "outputs": [
    {
     "data": {
      "text/plain": [
       "4"
      ]
     },
     "execution_count": 64,
     "metadata": {},
     "output_type": "execute_result"
    }
   ],
   "source": [
    "s = \" fly me to the moon \"\n",
    "lengthOfLastWord(s)"
   ]
  },
  {
   "cell_type": "markdown",
   "id": "bf4e5d4e",
   "metadata": {},
   "source": [
    "# 12. 66 Plus One"
   ]
  },
  {
   "cell_type": "markdown",
   "id": "903cef41",
   "metadata": {},
   "source": [
    "You are given a large integer represented as an integer array digits, where each digits[i] is the ith digit of the integer. The digits are ordered from most significant to least significant in left-to-right order. The large integer does not contain any leading 0's.\n",
    "\n",
    "Increment the large integer by one and return the resulting array of digits.\n",
    "\n",
    " \n",
    "\n",
    "Example 1:\n",
    "\n",
    "Input: digits = [1,2,3]\n",
    "Output: [1,2,4]\n",
    "Explanation: The array represents the integer 123.\n",
    "Incrementing by one gives 123 + 1 = 124.\n",
    "Thus, the result should be [1,2,4].\n",
    "\n",
    "Example 2:\n",
    "\n",
    "Input: digits = [4,3,2,1]\n",
    "Output: [4,3,2,2]\n",
    "Explanation: The array represents the integer 4321.\n",
    "Incrementing by one gives 4321 + 1 = 4322.\n",
    "Thus, the result should be [4,3,2,2].\n",
    "\n",
    "Example 3:\n",
    "\n",
    "Input: digits = [9]\n",
    "Output: [1,0]\n",
    "Explanation: The array represents the integer 9.\n",
    "Incrementing by one gives 9 + 1 = 10.\n",
    "Thus, the result should be [1,0]."
   ]
  },
  {
   "cell_type": "markdown",
   "id": "9eca5515",
   "metadata": {},
   "source": [
    "### My Solution"
   ]
  },
  {
   "cell_type": "markdown",
   "id": "a1188dfa",
   "metadata": {},
   "source": [
    "Solution idea: Most cases can simply add 1 to the last element in the array. But when the element is 9, or consecutive elements are 9, that's the really problem. When elements are 9, we replace them with 0, until we find non-9 element, then add 1 to this element. If all elements in the array are 9's, we replace all of them with 0, then append 1 to the front."
   ]
  },
  {
   "cell_type": "code",
   "execution_count": 3,
   "id": "cbb3b35d",
   "metadata": {},
   "outputs": [],
   "source": [
    "def plusOne(digits):\n",
    "    \n",
    "    i = len(digits) - 1\n",
    "    while digits[i] == 9:\n",
    "        digits[i] = 0\n",
    "        i -= 1\n",
    "    if i == -1: # To handle case like [9,9,9], return should be [1,0,0,0]\n",
    "        digits = [1] + digits\n",
    "    else:\n",
    "        digits[i] += 1\n",
    "    return digits"
   ]
  },
  {
   "cell_type": "code",
   "execution_count": 4,
   "id": "8c597ad4",
   "metadata": {},
   "outputs": [
    {
     "data": {
      "text/plain": [
       "[1, 5, 0]"
      ]
     },
     "execution_count": 4,
     "metadata": {},
     "output_type": "execute_result"
    }
   ],
   "source": [
    "digits = [1,4,9]\n",
    "plusOne(digits)"
   ]
  },
  {
   "cell_type": "code",
   "execution_count": 5,
   "id": "ca45f018",
   "metadata": {},
   "outputs": [
    {
     "data": {
      "text/plain": [
       "[1, 4, 7]"
      ]
     },
     "execution_count": 5,
     "metadata": {},
     "output_type": "execute_result"
    }
   ],
   "source": [
    "digits = [1,4,6]\n",
    "plusOne(digits)"
   ]
  },
  {
   "cell_type": "code",
   "execution_count": 6,
   "id": "e94c92d5",
   "metadata": {},
   "outputs": [
    {
     "data": {
      "text/plain": [
       "[1, 0, 0, 0]"
      ]
     },
     "execution_count": 6,
     "metadata": {},
     "output_type": "execute_result"
    }
   ],
   "source": [
    "digits = [9,9,9]\n",
    "plusOne(digits)"
   ]
  },
  {
   "cell_type": "markdown",
   "id": "bc648079",
   "metadata": {},
   "source": [
    "# 13. 67 Add Binary"
   ]
  },
  {
   "cell_type": "markdown",
   "id": "eb3da34a",
   "metadata": {},
   "source": [
    "Given two binary strings a and b, return their sum as a binary string.\n",
    "\n",
    "Example 1:\n",
    "\n",
    "Input: a = \"11\", b = \"1\"\n",
    "Output: \"100\"\n",
    "\n",
    "Example 2:\n",
    "\n",
    "Input: a = \"1010\", b = \"1011\"\n",
    "Output: \"10101\""
   ]
  },
  {
   "cell_type": "markdown",
   "id": "31da0bf1",
   "metadata": {},
   "source": [
    "### Solution 1: using built-in function `bin()`"
   ]
  },
  {
   "cell_type": "markdown",
   "id": "17257da8",
   "metadata": {},
   "source": [
    "* Built-in function int(x, base=10) -> integer, can convert a binary string into an integer.\n",
    "* Built-in function bin() converts integer into a binary string, but there is a prefix '0b' which indicates binary."
   ]
  },
  {
   "cell_type": "code",
   "execution_count": 12,
   "id": "8921220c",
   "metadata": {},
   "outputs": [
    {
     "data": {
      "text/plain": [
       "'0b100'"
      ]
     },
     "execution_count": 12,
     "metadata": {},
     "output_type": "execute_result"
    }
   ],
   "source": [
    "a = \"11\" \n",
    "b = \"1\"\n",
    "bin(int(a,2) + int(b,2))"
   ]
  },
  {
   "cell_type": "code",
   "execution_count": 9,
   "id": "ef15d9f0",
   "metadata": {},
   "outputs": [],
   "source": [
    "def addBinary(a, b):\n",
    "    \n",
    "    return bin(int(a,2) + int(b,2))[2:]"
   ]
  },
  {
   "cell_type": "code",
   "execution_count": 10,
   "id": "8b0c579e",
   "metadata": {},
   "outputs": [
    {
     "data": {
      "text/plain": [
       "'100'"
      ]
     },
     "execution_count": 10,
     "metadata": {},
     "output_type": "execute_result"
    }
   ],
   "source": [
    "a = \"11\" \n",
    "b = \"1\"\n",
    "addBinary(a, b)"
   ]
  },
  {
   "cell_type": "code",
   "execution_count": 11,
   "id": "a571fd41",
   "metadata": {},
   "outputs": [
    {
     "data": {
      "text/plain": [
       "'10101'"
      ]
     },
     "execution_count": 11,
     "metadata": {},
     "output_type": "execute_result"
    }
   ],
   "source": [
    "a = \"1010\" \n",
    "b = \"1011\"\n",
    "addBinary(a, b)"
   ]
  },
  {
   "cell_type": "code",
   "execution_count": 14,
   "id": "423e866b",
   "metadata": {},
   "outputs": [
    {
     "data": {
      "text/plain": [
       "49"
      ]
     },
     "execution_count": 14,
     "metadata": {},
     "output_type": "execute_result"
    }
   ],
   "source": [
    "ord(\"1\")"
   ]
  },
  {
   "cell_type": "markdown",
   "id": "ceb2c4fe",
   "metadata": {},
   "source": [
    "### Solution 2: bit-by-bit computation"
   ]
  },
  {
   "cell_type": "markdown",
   "id": "ed0c7575",
   "metadata": {},
   "source": [
    "Bit-by-bit addition from right to left. Binary addition: 1 + 1 -> 0 with 1 carry to the next bit addition."
   ]
  },
  {
   "cell_type": "code",
   "execution_count": 16,
   "id": "40b4bcde",
   "metadata": {},
   "outputs": [],
   "source": [
    "def addBinary(a, b):\n",
    "    \n",
    "    res = \"\" #initial result string\n",
    "    carry = 0 #initial carry\n",
    "\n",
    "    a, b = a[::-1], b[::-1] #addition from right to left, so reverse the strings.\n",
    "\n",
    "    for i in range(max(len(a), len(b))): #number of iteration depends on the longest string\n",
    "        # for shorter string, the iteration beyonds the string length, the rest locations fill with 0.\n",
    "        if i < len(a):\n",
    "            digitA = ord(a[i]) - ord(\"0\") # ord(): given a single character string, ord() returns an integer represent the unicode\n",
    "        else:\n",
    "            digitA = 0\n",
    "        if i < len(b):\n",
    "            digitB = ord(b[i]) - ord(\"0\")\n",
    "        else:\n",
    "            digitB = 0\n",
    "\n",
    "        total = digitA + digitB + carry\n",
    "        char = str(total % 2) # use the remainder for current bit\n",
    "        res = char + res # append the newly calculated character to the front of result string.\n",
    "        carry = total // 2 # update carry by\n",
    "    \n",
    "    # for an edge case, when the iteration finish but carry is not 0, we need to append 1 to the front.\n",
    "    if carry:\n",
    "        res = \"1\" + res\n",
    "    return res"
   ]
  },
  {
   "cell_type": "code",
   "execution_count": 17,
   "id": "63d2f7e7",
   "metadata": {},
   "outputs": [
    {
     "data": {
      "text/plain": [
       "'100'"
      ]
     },
     "execution_count": 17,
     "metadata": {},
     "output_type": "execute_result"
    }
   ],
   "source": [
    "a = \"11\" \n",
    "b = \"1\"\n",
    "addBinary(a, b)"
   ]
  },
  {
   "cell_type": "code",
   "execution_count": 18,
   "id": "02dad147",
   "metadata": {},
   "outputs": [
    {
     "data": {
      "text/plain": [
       "'10101'"
      ]
     },
     "execution_count": 18,
     "metadata": {},
     "output_type": "execute_result"
    }
   ],
   "source": [
    "a = \"1010\" \n",
    "b = \"1011\"\n",
    "addBinary(a, b)"
   ]
  },
  {
   "cell_type": "markdown",
   "id": "4721a61c",
   "metadata": {},
   "source": [
    "# 14. 69 Sqrt(x)"
   ]
  },
  {
   "cell_type": "markdown",
   "id": "6b2d0c57",
   "metadata": {},
   "source": [
    "Given a non-negative integer x, compute and return the square root of x.\n",
    "\n",
    "Since the return type is an integer, the decimal digits are truncated, and only the integer part of the result is returned.\n",
    "\n",
    "Note: You are not allowed to use any built-in exponent function or operator, such as pow(x, 0.5) or x ** 0.5.\n",
    "\n",
    "Example:\n",
    "\n",
    "Input: x = 8\n",
    "Output: 2\n",
    "Explanation: The square root of 8 is 2.82842..., and since the decimal part is truncated, 2 is returned."
   ]
  },
  {
   "cell_type": "markdown",
   "id": "13198031",
   "metadata": {},
   "source": [
    "### Solution 1: Binary search\n",
    "\n",
    "Algorithm：\n",
    "\n",
    "* If x < 2, return x.\n",
    "\n",
    "* Set the left boundary to 2, and the right boundary to x / 2.\n",
    "\n",
    "* While left <= right:\n",
    "\n",
    "    * Take num = (left + right) / 2 as a guess. Compute num * num and compare it with x:\n",
    "\n",
    "        * If num * num > x, move the right boundary right = pivot -1\n",
    "\n",
    "        * Else, if num * num < x, move the left boundary left = pivot + 1\n",
    "\n",
    "        * Otherwise num * num == x, the integer square root is here, let's return it\n",
    "\n",
    "* Return right"
   ]
  },
  {
   "cell_type": "code",
   "execution_count": 21,
   "id": "cad0d91b",
   "metadata": {},
   "outputs": [],
   "source": [
    "def mySqrt(x):\n",
    "    \n",
    "    if x < 2:\n",
    "        return x\n",
    "\n",
    "    left, right = 2, x//2\n",
    "\n",
    "    while left <= right:\n",
    "        pivot = (left+right)//2\n",
    "        num = pivot*pivot\n",
    "        if num < x:\n",
    "            left = pivot + 1\n",
    "        elif num > x:\n",
    "            right = pivot - 1\n",
    "        else:\n",
    "            return pivot\n",
    "\n",
    "    return right # return the smaller pointer that breaks the while loop"
   ]
  },
  {
   "cell_type": "code",
   "execution_count": 22,
   "id": "4e5b42ed",
   "metadata": {},
   "outputs": [
    {
     "data": {
      "text/plain": [
       "3"
      ]
     },
     "execution_count": 22,
     "metadata": {},
     "output_type": "execute_result"
    }
   ],
   "source": [
    "x = 10\n",
    "mySqrt(x)"
   ]
  },
  {
   "cell_type": "code",
   "execution_count": 23,
   "id": "bc260fb8",
   "metadata": {},
   "outputs": [
    {
     "data": {
      "text/plain": [
       "4"
      ]
     },
     "execution_count": 23,
     "metadata": {},
     "output_type": "execute_result"
    }
   ],
   "source": [
    "x = 20\n",
    "mySqrt(x)"
   ]
  },
  {
   "cell_type": "markdown",
   "id": "78bfa21b",
   "metadata": {},
   "source": [
    "### Solution 2: Newton's Method"
   ]
  },
  {
   "cell_type": "markdown",
   "id": "86a43a6c",
   "metadata": {},
   "source": [
    "x_k+1 = (x_k+x/x_k)/2 \n",
    "\n",
    "define that error should be less than 1 and proceed iteratively."
   ]
  },
  {
   "cell_type": "code",
   "execution_count": 24,
   "id": "091fb33f",
   "metadata": {},
   "outputs": [],
   "source": [
    "def mySqrt(x):\n",
    "        if x < 2:\n",
    "            return x\n",
    "        \n",
    "        x0 = x\n",
    "        x1 = (x0 + x/x0)/2\n",
    "        \n",
    "        while abs(x0 - x1) >= 1:\n",
    "            x0 = x1 # x0 is x_k\n",
    "            x1 = (x0 + x/x0)/2 # x1 is x_k+1\n",
    "        \n",
    "        return int(x1)\n",
    "        "
   ]
  },
  {
   "cell_type": "code",
   "execution_count": 25,
   "id": "ca41f94f",
   "metadata": {},
   "outputs": [
    {
     "data": {
      "text/plain": [
       "4"
      ]
     },
     "execution_count": 25,
     "metadata": {},
     "output_type": "execute_result"
    }
   ],
   "source": [
    "x = 20\n",
    "mySqrt(x)"
   ]
  },
  {
   "cell_type": "code",
   "execution_count": null,
   "id": "6fcc6d7d",
   "metadata": {},
   "outputs": [],
   "source": []
  }
 ],
 "metadata": {
  "kernelspec": {
   "display_name": "Python 3 (ipykernel)",
   "language": "python",
   "name": "python3"
  },
  "language_info": {
   "codemirror_mode": {
    "name": "ipython",
    "version": 3
   },
   "file_extension": ".py",
   "mimetype": "text/x-python",
   "name": "python",
   "nbconvert_exporter": "python",
   "pygments_lexer": "ipython3",
   "version": "3.9.7"
  }
 },
 "nbformat": 4,
 "nbformat_minor": 5
}
